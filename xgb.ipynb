{
 "cells": [
  {
   "cell_type": "code",
   "execution_count": 25,
   "metadata": {
    "collapsed": true
   },
   "outputs": [],
   "source": [
    "import pandas as pd\n",
    "import numpy as np\n",
    "from sklearn.cross_validation import train_test_split\n",
    "import xgboost as xgb\n",
    "import matplotlib.pyplot as plt\n",
    "import datetime\n",
    "dt = datetime.datetime.now()"
   ]
  },
  {
   "cell_type": "code",
   "execution_count": 26,
   "metadata": {
    "collapsed": true
   },
   "outputs": [],
   "source": [
    "def rmspe(y, yhat):\n",
    "    # y = true data\n",
    "    # yhat = predication\n",
    "    return np.sqrt(np.mean(((y - yhat) / y)**2))\n",
    "\n",
    "def rmspe_xg(yhat, y):\n",
    "    y = np.expm1(y.get_label())\n",
    "    yhat = np.expm1(yhat)\n",
    "    return \"rmspe\", rmspe(y,yhat)"
   ]
  },
  {
   "cell_type": "code",
   "execution_count": 27,
   "metadata": {
    "collapsed": false
   },
   "outputs": [],
   "source": [
    "monthdic = ['Jan','Feb','Mar','Apr','May','Jun','Jul','Aug','Sep','Oct','Nov','Dec']\n",
    "\n",
    "def promo2_indicator(row):\n",
    "    if row['PromoInterval'] is np.NaN:\n",
    "        return 0\n",
    "    try:\n",
    "        if monthdic[row['Month']-1] == row['PromoInterval']:\n",
    "            return 1\n",
    "    except:\n",
    "        if monthdic[row['Month']-1] in row['PromoInterval']:\n",
    "            return 1\n",
    "    return 0"
   ]
  },
  {
   "cell_type": "code",
   "execution_count": 28,
   "metadata": {
    "collapsed": true
   },
   "outputs": [],
   "source": [
    "def build_features(features, data):\n",
    "    # remove NaNs\n",
    "    data.fillna(0, inplace=True)\n",
    "    data.loc[data.Open.isnull(), 'Open'] = 1\n",
    "    \n",
    "    features.extend(['Store', 'CompetitionDistance', 'Promo', 'Promo2SinceWeek',\n",
    "                     'Promo2SinceYear', 'SchoolHoliday', 'StoreType', 'Assortment',\n",
    "                    'StateHoliday'])\n",
    "    \n",
    "    mapping = {'0':0, 'a':1, 'b':2, 'c':3, 'd':4}\n",
    "    data.StoreType.replace(mapping, inplace=True)\n",
    "    data.Assortment.replace(mapping, inplace=True)\n",
    "    data.StateHoliday.replace(mapping, inplace=True)\n",
    "    \n",
    "    features.extend(['Month', 'Day', 'Year', 'Quarter'])\n",
    "    data['Month'] = data.Date.apply(lambda x: x.month)\n",
    "    data['Day'] = data.Date.apply(lambda x: x.day)\n",
    "    data['Year'] = data.Date.apply(lambda x: x.year)\n",
    "    data['Quarter'] = data.Date.apply(lambda x: x.quarter)\n",
    "    \n",
    "    features.extend(['Promo2Indicator', 'CompetitionTime'])\n",
    "    data['Promo2Indicator'] = data.apply(promo2_indicator, axis = 1)\n",
    "    data['CompetitionTime'] = data.Month - data.CompetitionOpenSinceMonth + (data.Year - data.CompetitionOpenSinceYear) * 12"
   ]
  },
  {
   "cell_type": "code",
   "execution_count": 29,
   "metadata": {
    "collapsed": false
   },
   "outputs": [
    {
     "name": "stdout",
     "output_type": "stream",
     "text": [
      "Load the training, test and store data using pandas\n",
      "build train features\n",
      "build test features\n",
      "['Store', 'CompetitionDistance', 'Promo', 'Promo2SinceWeek', 'Promo2SinceYear', 'SchoolHoliday', 'StoreType', 'Assortment', 'StateHoliday', 'Month', 'Day', 'Year', 'Quarter', 'Promo2Indicator', 'CompetitionTime']\n"
     ]
    }
   ],
   "source": [
    "# main script\n",
    "\n",
    "print(\"Load the training, test and store data using pandas\")\n",
    "types = {'CompetitionOpenSinceYear': np.dtype(int),\n",
    "         'CompetitionOpenSinceMonth': np.dtype(int),\n",
    "         'StateHoliday': np.dtype(str),\n",
    "         'Promo2SinceWeek': np.dtype(int),\n",
    "         'SchoolHoliday': np.dtype(int),\n",
    "         'PromoInterval': np.dtype(str),\n",
    "         'CompetitionDistance':np.dtype(float),\n",
    "         'StoreType':np.dtype(str),\n",
    "         'Assortment':np.dtype(str)}\n",
    "store = pd.read_csv(\"../data/store.csv\")\n",
    "test = pd.read_csv(\"../data/test.csv\", parse_dates=[3], dtype = types)\n",
    "train = pd.read_csv(\"../data/train.csv\", parse_dates=[2], dtype = types)\n",
    "test = pd.merge(test, store, on = \"Store\", how = \"left\")\n",
    "train = pd.merge(train, store, on = \"Store\", how = \"left\")\n",
    "\n",
    "features = []\n",
    "print(\"build train features\")\n",
    "build_features(features, train)\n",
    "print(\"build test features\")\n",
    "build_features([], test)\n",
    "print(features)\n",
    "\n"
   ]
  },
  {
   "cell_type": "code",
   "execution_count": 32,
   "metadata": {
    "collapsed": false
   },
   "outputs": [
    {
     "data": {
      "text/plain": [
       "Id                           0\n",
       "Store                        0\n",
       "DayOfWeek                    0\n",
       "Date                         0\n",
       "Open                         0\n",
       "Promo                        0\n",
       "StateHoliday                 0\n",
       "SchoolHoliday                0\n",
       "StoreType                    0\n",
       "Assortment                   0\n",
       "CompetitionDistance          0\n",
       "CompetitionOpenSinceMonth    0\n",
       "CompetitionOpenSinceYear     0\n",
       "Promo2                       0\n",
       "Promo2SinceWeek              0\n",
       "Promo2SinceYear              0\n",
       "PromoInterval                0\n",
       "Month                        0\n",
       "Day                          0\n",
       "Year                         0\n",
       "Quarter                      0\n",
       "Promo2Indicator              0\n",
       "CompetitionTime              0\n",
       "dtype: int64"
      ]
     },
     "execution_count": 32,
     "metadata": {},
     "output_type": "execute_result"
    }
   ],
   "source": [
    "test.isnull().sum()"
   ]
  },
  {
   "cell_type": "code",
   "execution_count": 34,
   "metadata": {
    "collapsed": false
   },
   "outputs": [
    {
     "data": {
      "text/plain": [
       "Id                                          1713\n",
       "Store                                          1\n",
       "DayOfWeek                                      2\n",
       "Date                         2015-09-15 00:00:00\n",
       "Open                                           1\n",
       "Promo                                          1\n",
       "StateHoliday                                   0\n",
       "SchoolHoliday                                  0\n",
       "StoreType                                      3\n",
       "Assortment                                     1\n",
       "CompetitionDistance                         1270\n",
       "CompetitionOpenSinceMonth                      9\n",
       "CompetitionOpenSinceYear                    2008\n",
       "Promo2                                         0\n",
       "Promo2SinceWeek                                0\n",
       "Promo2SinceYear                                0\n",
       "PromoInterval                                  0\n",
       "Month                                          9\n",
       "Day                                           15\n",
       "Year                                        2015\n",
       "Quarter                                        3\n",
       "Promo2Indicator                                0\n",
       "CompetitionTime                               84\n",
       "Name: 2, dtype: object"
      ]
     },
     "execution_count": 34,
     "metadata": {},
     "output_type": "execute_result"
    }
   ],
   "source": [
    "test.iloc[2,:]"
   ]
  },
  {
   "cell_type": "code",
   "execution_count": 31,
   "metadata": {
    "collapsed": false
   },
   "outputs": [
    {
     "data": {
      "text/html": [
       "<div style=\"max-height:1000px;max-width:1500px;overflow:auto;\">\n",
       "<table border=\"1\" class=\"dataframe\">\n",
       "  <thead>\n",
       "    <tr style=\"text-align: right;\">\n",
       "      <th></th>\n",
       "      <th>Store</th>\n",
       "      <th>DayOfWeek</th>\n",
       "      <th>Date</th>\n",
       "      <th>Sales</th>\n",
       "      <th>Customers</th>\n",
       "      <th>Open</th>\n",
       "      <th>Promo</th>\n",
       "      <th>StateHoliday</th>\n",
       "      <th>SchoolHoliday</th>\n",
       "      <th>StoreType</th>\n",
       "      <th>Assortment</th>\n",
       "      <th>CompetitionDistance</th>\n",
       "      <th>CompetitionOpenSinceMonth</th>\n",
       "      <th>CompetitionOpenSinceYear</th>\n",
       "      <th>Promo2</th>\n",
       "      <th>Promo2SinceWeek</th>\n",
       "      <th>Promo2SinceYear</th>\n",
       "      <th>PromoInterval</th>\n",
       "      <th>Month</th>\n",
       "      <th>Day</th>\n",
       "      <th></th>\n",
       "    </tr>\n",
       "  </thead>\n",
       "  <tbody>\n",
       "    <tr>\n",
       "      <th>0</th>\n",
       "      <td> 1</td>\n",
       "      <td> 5</td>\n",
       "      <td>2015-07-31</td>\n",
       "      <td> 5263</td>\n",
       "      <td> 555</td>\n",
       "      <td> 1</td>\n",
       "      <td> 1</td>\n",
       "      <td> 0</td>\n",
       "      <td> 1</td>\n",
       "      <td> 3</td>\n",
       "      <td> 1</td>\n",
       "      <td> 1270</td>\n",
       "      <td> 9</td>\n",
       "      <td> 2008</td>\n",
       "      <td> 0</td>\n",
       "      <td> 0</td>\n",
       "      <td> 0</td>\n",
       "      <td> 0</td>\n",
       "      <td> 7</td>\n",
       "      <td> 31</td>\n",
       "      <td>...</td>\n",
       "    </tr>\n",
       "    <tr>\n",
       "      <th>1</th>\n",
       "      <td> 1</td>\n",
       "      <td> 4</td>\n",
       "      <td>2015-07-30</td>\n",
       "      <td> 5020</td>\n",
       "      <td> 546</td>\n",
       "      <td> 1</td>\n",
       "      <td> 1</td>\n",
       "      <td> 0</td>\n",
       "      <td> 1</td>\n",
       "      <td> 3</td>\n",
       "      <td> 1</td>\n",
       "      <td> 1270</td>\n",
       "      <td> 9</td>\n",
       "      <td> 2008</td>\n",
       "      <td> 0</td>\n",
       "      <td> 0</td>\n",
       "      <td> 0</td>\n",
       "      <td> 0</td>\n",
       "      <td> 7</td>\n",
       "      <td> 30</td>\n",
       "      <td>...</td>\n",
       "    </tr>\n",
       "    <tr>\n",
       "      <th>2</th>\n",
       "      <td> 1</td>\n",
       "      <td> 3</td>\n",
       "      <td>2015-07-29</td>\n",
       "      <td> 4782</td>\n",
       "      <td> 523</td>\n",
       "      <td> 1</td>\n",
       "      <td> 1</td>\n",
       "      <td> 0</td>\n",
       "      <td> 1</td>\n",
       "      <td> 3</td>\n",
       "      <td> 1</td>\n",
       "      <td> 1270</td>\n",
       "      <td> 9</td>\n",
       "      <td> 2008</td>\n",
       "      <td> 0</td>\n",
       "      <td> 0</td>\n",
       "      <td> 0</td>\n",
       "      <td> 0</td>\n",
       "      <td> 7</td>\n",
       "      <td> 29</td>\n",
       "      <td>...</td>\n",
       "    </tr>\n",
       "    <tr>\n",
       "      <th>3</th>\n",
       "      <td> 1</td>\n",
       "      <td> 2</td>\n",
       "      <td>2015-07-28</td>\n",
       "      <td> 5011</td>\n",
       "      <td> 560</td>\n",
       "      <td> 1</td>\n",
       "      <td> 1</td>\n",
       "      <td> 0</td>\n",
       "      <td> 1</td>\n",
       "      <td> 3</td>\n",
       "      <td> 1</td>\n",
       "      <td> 1270</td>\n",
       "      <td> 9</td>\n",
       "      <td> 2008</td>\n",
       "      <td> 0</td>\n",
       "      <td> 0</td>\n",
       "      <td> 0</td>\n",
       "      <td> 0</td>\n",
       "      <td> 7</td>\n",
       "      <td> 28</td>\n",
       "      <td>...</td>\n",
       "    </tr>\n",
       "    <tr>\n",
       "      <th>4</th>\n",
       "      <td> 1</td>\n",
       "      <td> 1</td>\n",
       "      <td>2015-07-27</td>\n",
       "      <td> 6102</td>\n",
       "      <td> 612</td>\n",
       "      <td> 1</td>\n",
       "      <td> 1</td>\n",
       "      <td> 0</td>\n",
       "      <td> 1</td>\n",
       "      <td> 3</td>\n",
       "      <td> 1</td>\n",
       "      <td> 1270</td>\n",
       "      <td> 9</td>\n",
       "      <td> 2008</td>\n",
       "      <td> 0</td>\n",
       "      <td> 0</td>\n",
       "      <td> 0</td>\n",
       "      <td> 0</td>\n",
       "      <td> 7</td>\n",
       "      <td> 27</td>\n",
       "      <td>...</td>\n",
       "    </tr>\n",
       "  </tbody>\n",
       "</table>\n",
       "<p>5 rows × 24 columns</p>\n",
       "</div>"
      ],
      "text/plain": [
       "   Store  DayOfWeek       Date  Sales  Customers  Open  Promo  StateHoliday  \\\n",
       "0      1          5 2015-07-31   5263        555     1      1             0   \n",
       "1      1          4 2015-07-30   5020        546     1      1             0   \n",
       "2      1          3 2015-07-29   4782        523     1      1             0   \n",
       "3      1          2 2015-07-28   5011        560     1      1             0   \n",
       "4      1          1 2015-07-27   6102        612     1      1             0   \n",
       "\n",
       "   SchoolHoliday  StoreType  Assortment  CompetitionDistance  \\\n",
       "0              1          3           1                 1270   \n",
       "1              1          3           1                 1270   \n",
       "2              1          3           1                 1270   \n",
       "3              1          3           1                 1270   \n",
       "4              1          3           1                 1270   \n",
       "\n",
       "   CompetitionOpenSinceMonth  CompetitionOpenSinceYear  Promo2  \\\n",
       "0                          9                      2008       0   \n",
       "1                          9                      2008       0   \n",
       "2                          9                      2008       0   \n",
       "3                          9                      2008       0   \n",
       "4                          9                      2008       0   \n",
       "\n",
       "   Promo2SinceWeek  Promo2SinceYear PromoInterval  Month  Day      \n",
       "0                0                0             0      7   31 ...  \n",
       "1                0                0             0      7   30 ...  \n",
       "2                0                0             0      7   29 ...  \n",
       "3                0                0             0      7   28 ...  \n",
       "4                0                0             0      7   27 ...  \n",
       "\n",
       "[5 rows x 24 columns]"
      ]
     },
     "execution_count": 31,
     "metadata": {},
     "output_type": "execute_result"
    }
   ],
   "source": [
    "train.head()"
   ]
  },
  {
   "cell_type": "code",
   "execution_count": 36,
   "metadata": {
    "collapsed": false
   },
   "outputs": [
    {
     "name": "stderr",
     "output_type": "stream",
     "text": [
      "Will train until train error hasn't decreased in 100 rounds.\n",
      "[0]\ttrain-rmspe:inf\n",
      "[1]\ttrain-rmspe:inf\n",
      "[2]\ttrain-rmspe:inf\n",
      "[3]\ttrain-rmspe:inf\n",
      "[4]\ttrain-rmspe:inf\n",
      "[5]\ttrain-rmspe:inf\n",
      "[6]\ttrain-rmspe:inf\n",
      "[7]\ttrain-rmspe:inf\n",
      "[8]\ttrain-rmspe:inf\n",
      "[9]\ttrain-rmspe:inf\n",
      "[10]\ttrain-rmspe:inf\n",
      "[11]\ttrain-rmspe:inf\n",
      "[12]\ttrain-rmspe:inf\n",
      "[13]\ttrain-rmspe:inf\n",
      "[14]\ttrain-rmspe:inf\n",
      "[15]\ttrain-rmspe:inf\n",
      "[16]\ttrain-rmspe:inf\n",
      "[17]\ttrain-rmspe:inf\n",
      "[18]\ttrain-rmspe:inf\n",
      "[19]\ttrain-rmspe:inf\n",
      "[20]\ttrain-rmspe:inf\n",
      "[21]\ttrain-rmspe:inf\n",
      "[22]\ttrain-rmspe:inf\n",
      "[23]\ttrain-rmspe:inf\n",
      "[24]\ttrain-rmspe:inf\n",
      "[25]\ttrain-rmspe:inf\n",
      "[26]\ttrain-rmspe:inf\n",
      "[27]\ttrain-rmspe:inf\n",
      "[28]\ttrain-rmspe:inf\n",
      "[29]\ttrain-rmspe:inf\n",
      "[30]\ttrain-rmspe:inf\n",
      "[31]\ttrain-rmspe:inf\n",
      "[32]\ttrain-rmspe:inf\n",
      "[33]\ttrain-rmspe:inf\n",
      "[34]\ttrain-rmspe:inf\n",
      "[35]\ttrain-rmspe:inf\n",
      "[36]\ttrain-rmspe:inf\n",
      "[37]\ttrain-rmspe:inf\n",
      "[38]\ttrain-rmspe:inf\n",
      "[39]\ttrain-rmspe:inf\n",
      "[40]\ttrain-rmspe:inf\n",
      "[41]\ttrain-rmspe:inf\n",
      "[42]\ttrain-rmspe:inf\n",
      "[43]\ttrain-rmspe:inf\n",
      "[44]\ttrain-rmspe:inf\n",
      "[45]\ttrain-rmspe:inf\n",
      "[46]\ttrain-rmspe:inf\n",
      "[47]\ttrain-rmspe:inf\n",
      "[48]\ttrain-rmspe:inf\n",
      "[49]\ttrain-rmspe:inf\n",
      "[50]\ttrain-rmspe:inf\n",
      "[51]\ttrain-rmspe:inf\n",
      "[52]\ttrain-rmspe:inf\n",
      "[53]\ttrain-rmspe:inf\n",
      "[54]\ttrain-rmspe:inf\n",
      "[55]\ttrain-rmspe:inf\n",
      "[56]\ttrain-rmspe:inf\n",
      "[57]\ttrain-rmspe:inf\n",
      "[58]\ttrain-rmspe:inf\n",
      "[59]\ttrain-rmspe:inf\n",
      "[60]\ttrain-rmspe:inf\n",
      "[61]\ttrain-rmspe:inf\n",
      "[62]\ttrain-rmspe:inf\n",
      "[63]\ttrain-rmspe:inf\n",
      "[64]\ttrain-rmspe:inf\n",
      "[65]\ttrain-rmspe:inf\n",
      "[66]\ttrain-rmspe:inf\n",
      "[67]\ttrain-rmspe:inf\n",
      "[68]\ttrain-rmspe:inf\n",
      "[69]\ttrain-rmspe:inf\n",
      "[70]\ttrain-rmspe:inf\n",
      "[71]\ttrain-rmspe:inf\n",
      "[72]\ttrain-rmspe:inf\n",
      "[73]\ttrain-rmspe:inf\n",
      "[74]\ttrain-rmspe:inf\n",
      "[75]\ttrain-rmspe:inf\n",
      "[76]\ttrain-rmspe:inf\n",
      "[77]\ttrain-rmspe:inf\n",
      "[78]\ttrain-rmspe:inf\n",
      "[79]\ttrain-rmspe:inf\n",
      "[80]\ttrain-rmspe:inf\n",
      "[81]\ttrain-rmspe:inf\n",
      "[82]\ttrain-rmspe:inf\n",
      "[83]\ttrain-rmspe:inf\n",
      "[84]\ttrain-rmspe:inf\n",
      "[85]\ttrain-rmspe:inf\n",
      "[86]\ttrain-rmspe:inf\n",
      "[87]\ttrain-rmspe:inf\n",
      "[88]\ttrain-rmspe:inf\n",
      "[89]\ttrain-rmspe:inf\n",
      "[90]\ttrain-rmspe:inf\n",
      "[91]\ttrain-rmspe:inf\n",
      "[92]\ttrain-rmspe:inf\n",
      "[93]\ttrain-rmspe:inf\n",
      "[94]\ttrain-rmspe:inf\n",
      "[95]\ttrain-rmspe:inf\n",
      "[96]\ttrain-rmspe:inf\n",
      "[97]\ttrain-rmspe:inf\n",
      "[98]\ttrain-rmspe:inf\n"
     ]
    },
    {
     "name": "stdout",
     "output_type": "stream",
     "text": [
      "Train a XGBoost model\n",
      "Make predictions on the test set\n"
     ]
    },
    {
     "name": "stderr",
     "output_type": "stream",
     "text": [
      "[99]\ttrain-rmspe:inf\n",
      "Stopping. Best iteration:\n",
      "\n",
      "\n"
     ]
    }
   ],
   "source": [
    "params = {\"objective\": \"reg:linear\",\n",
    "          \"booster\" : \"gbtree\",\n",
    "          \"eta\": 0.05,\n",
    "          \"max_depth\": 10,\n",
    "          \"subsample\": 0.9,\n",
    "          \"colsample_bytree\": 0.7,\n",
    "          \"silent\": 1,\n",
    "          \"seed\": 1301\n",
    "          }\n",
    "num_boost_round = 7000\n",
    "\n",
    "# start training\n",
    "print(\"Train a XGBoost model\")\n",
    "#X_train, X_valid = train_test_split(train, test_size=0.012, random_state=10)\n",
    "#y_train = np.log1p(X_train.Sales)\n",
    "#y_valid = np.log1p(X_valid.Sales)\n",
    "\n",
    "X_train = train\n",
    "y_train = np.log1p(X_train.Sales)\n",
    "\n",
    "dtrain = xgb.DMatrix(X_train[features], y_train)\n",
    "#dvalid = xgb.DMatrix(X_valid[features], y_valid)\n",
    "\n",
    "\n"
   ]
  },
  {
   "cell_type": "code",
   "execution_count": 40,
   "metadata": {
    "collapsed": false
   },
   "outputs": [
    {
     "data": {
      "text/plain": [
       "array([ 8.56864643,  8.52138424,  8.47282314, ...,  8.36590481,\n",
       "        8.21554756,  0.        ], dtype=float32)"
      ]
     },
     "execution_count": 40,
     "metadata": {},
     "output_type": "execute_result"
    }
   ],
   "source": [
    "dtrain.get_label()"
   ]
  },
  {
   "cell_type": "code",
   "execution_count": null,
   "metadata": {
    "collapsed": true
   },
   "outputs": [],
   "source": [
    "#watchlist = [(dtrain, 'train'), (dvalid, 'eval')]\n",
    "watchlist = [(dtrain, 'train')]\n",
    "\n",
    "gbm = xgb.train(params, dtrain, num_boost_round, evals=watchlist, \\\n",
    "  early_stopping_rounds=100, feval=rmspe_xg, verbose_eval=True)\n",
    "\n",
    "# predict\n",
    "print(\"Make predictions on the test set\")\n",
    "dtest = xgb.DMatrix(test[features])\n",
    "test_probs = gbm.predict(dtest)\n",
    "\n",
    "# Make Submission\n",
    "result = pd.DataFrame({\"Id\": test[\"Id\"], 'Sales': np.expm1(test_probs)})\n",
    "result.to_csv(\"../sub/submission%d%d%d.csv\"%(dt.day, dt.hour, dt.minute),index=False)"
   ]
  }
 ],
 "metadata": {
  "kernelspec": {
   "display_name": "Python 2",
   "language": "python",
   "name": "python2"
  },
  "language_info": {
   "codemirror_mode": {
    "name": "ipython",
    "version": 2
   },
   "file_extension": ".py",
   "mimetype": "text/x-python",
   "name": "python",
   "nbconvert_exporter": "python",
   "pygments_lexer": "ipython2",
   "version": "2.7.6"
  }
 },
 "nbformat": 4,
 "nbformat_minor": 0
}
